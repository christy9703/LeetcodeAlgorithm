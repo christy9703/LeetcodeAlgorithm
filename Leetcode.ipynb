{
 "cells": [
  {
   "cell_type": "markdown",
   "metadata": {},
   "source": [
    "# 1. Two Sum\n",
    "Given an array of integers, return indices of the two numbers such that they add up to a specific target.\\\n",
    "\\\n",
    "You may assume that each input would have exactly one solution, and you may not use the same element twice."
   ]
  },
  {
   "cell_type": "code",
   "execution_count": 1,
   "metadata": {},
   "outputs": [],
   "source": [
    "def twoSum(nums, target: int):\n",
    "    for index, number in enumerate(nums):\n",
    "        if (target-number) in nums:\n",
    "            if nums.index(target-number)!=index:\n",
    "                return [index,nums.index(target-number)]"
   ]
  },
  {
   "cell_type": "code",
   "execution_count": 2,
   "metadata": {},
   "outputs": [
    {
     "data": {
      "text/plain": [
       "[0, 1]"
      ]
     },
     "execution_count": 2,
     "metadata": {},
     "output_type": "execute_result"
    }
   ],
   "source": [
    "nums = [2, 7, 11, 15]\n",
    "target = 9\n",
    "twoSum(nums,target)"
   ]
  },
  {
   "cell_type": "markdown",
   "metadata": {},
   "source": [
    "# 2. Reverse Integer\n",
    "Given a 32-bit signed integer, reverse digits of an integer."
   ]
  },
  {
   "cell_type": "code",
   "execution_count": 3,
   "metadata": {},
   "outputs": [],
   "source": [
    "def reverse(x: int) -> int:\n",
    "    if x>=2**32-1 or x <= -2**32:\n",
    "        new=0\n",
    "    else:\n",
    "        new=\"\"\n",
    "        if str(x)[0]==\"-\":\n",
    "            new=\"-\"\n",
    "            for index, i in enumerate(str(x)):\n",
    "                if index>0:\n",
    "                    new=new+str(x)[(len(str(x))-index)]\n",
    "        else:\n",
    "            for index, i in enumerate(str(x)):\n",
    "                new=new+str(x)[(len(str(x))-index)-1]\n",
    "        new=int(new)\n",
    "    return(new)"
   ]
  },
  {
   "cell_type": "markdown",
   "metadata": {},
   "source": [
    "Testcase:"
   ]
  },
  {
   "cell_type": "code",
   "execution_count": 4,
   "metadata": {},
   "outputs": [
    {
     "data": {
      "text/plain": [
       "321"
      ]
     },
     "execution_count": 4,
     "metadata": {},
     "output_type": "execute_result"
    }
   ],
   "source": [
    "reverse(123)"
   ]
  },
  {
   "cell_type": "markdown",
   "metadata": {},
   "source": [
    "# 3. Palindrome Number\n",
    "Determine whether an integer is a palindrome. An integer is a palindrome when it reads the same backward as forward.\n",
    "\n"
   ]
  },
  {
   "cell_type": "code",
   "execution_count": 5,
   "metadata": {},
   "outputs": [],
   "source": [
    "def isPalindrome(x: int) -> bool:\n",
    "    new=\"\"\n",
    "    for index,i in enumerate(str(x)):\n",
    "        new=new+str(x)[len(str(x))-index-1]\n",
    "    if new==str(x):\n",
    "        result=True\n",
    "    else:\n",
    "        result=False\n",
    "    return result"
   ]
  },
  {
   "cell_type": "markdown",
   "metadata": {},
   "source": [
    "Testcase1:"
   ]
  },
  {
   "cell_type": "code",
   "execution_count": 6,
   "metadata": {},
   "outputs": [
    {
     "data": {
      "text/plain": [
       "True"
      ]
     },
     "execution_count": 6,
     "metadata": {},
     "output_type": "execute_result"
    }
   ],
   "source": [
    "isPalindrome(121)"
   ]
  },
  {
   "cell_type": "markdown",
   "metadata": {},
   "source": [
    "Slice Notation:\\\n",
    "a[start:stop]  items start through stop-1\\\n",
    "a[start:]       items start through the rest of the array\\\n",
    "a[:stop]        items from the beginning through stop-1\\\n",
    "a[:]            a copy of the whole array\\\n",
    "a[start:stop:step]  start through not past stop, by step\\\n",
    "\\\n",
    "a[-1]     last item in the array\\\n",
    "a[-2:]    last two items in the array\\\n",
    "a[:-2]    everything except the last two items\\\n",
    "\\\n",
    "a[::-1]     all items in the array, reversed\\\n",
    "a[1::-1]    the first two items, reversed\\\n",
    "a[:-3:-1]   the last two items, reversed\\\n",
    "a[-3::-1]   everything except the last two items, reversed\n"
   ]
  },
  {
   "cell_type": "code",
   "execution_count": 7,
   "metadata": {},
   "outputs": [],
   "source": [
    "def isPalindrome2(x: int) -> bool:\n",
    "    y=str(x)\n",
    "    return y==y[::-1]"
   ]
  },
  {
   "cell_type": "code",
   "execution_count": 8,
   "metadata": {},
   "outputs": [
    {
     "data": {
      "text/plain": [
       "True"
      ]
     },
     "execution_count": 8,
     "metadata": {},
     "output_type": "execute_result"
    }
   ],
   "source": [
    "isPalindrome2(121)"
   ]
  },
  {
   "cell_type": "markdown",
   "metadata": {},
   "source": [
    "# 4. Roman to Integer"
   ]
  },
  {
   "cell_type": "markdown",
   "metadata": {},
   "source": [
    "Roman numerals are represented by seven different symbols: I, V, X, L, C, D and M.\\\n",
    "For example, two is written as II in Roman numeral, just two one's added together. Twelve is written as, XII, which is simply X + II. The number twenty seven is written as XXVII, which is XX + V + II.\\\n",
    "\\\n",
    "Roman numerals are usually written largest to smallest from left to right. However, the numeral for four is not IIII. Instead, the number four is written as IV. Because the one is before the five we subtract it making four. The same principle applies to the number nine, which is written as IX. There are six instances where subtraction is used:\\\n",
    "\\\n",
    "I can be placed before V (5) and X (10) to make 4 and 9. \\\n",
    "X can be placed before L (50) and C (100) to make 40 and 90. \\\n",
    "C can be placed before D (500) and M (1000) to make 400 and 900.\\\n",
    "Given a roman numeral, convert it to an integer. Input is guaranteed to be within the range from 1 to 3999.\n",
    "\n"
   ]
  },
  {
   "cell_type": "code",
   "execution_count": 9,
   "metadata": {},
   "outputs": [],
   "source": [
    "def romanToInt(s: str) -> int:\n",
    "    RomanDict={'I':1,\n",
    "            'V':5,\n",
    "            'X':10,\n",
    "            'L':50,\n",
    "            'C':100,\n",
    "            'D':500,\n",
    "            'M':1000}\n",
    "    res=0\n",
    "    last_num=1\n",
    "    y=s[::-1]\n",
    "    for num in y:\n",
    "        curr_num=num\n",
    "        digit_num=RomanDict[num]\n",
    "        if last_num>digit_num:\n",
    "            res-=digit_num\n",
    "        else:\n",
    "            res+=digit_num\n",
    "        last_num=digit_num\n",
    "    return res"
   ]
  },
  {
   "cell_type": "markdown",
   "metadata": {},
   "source": [
    "Testcase:"
   ]
  },
  {
   "cell_type": "code",
   "execution_count": 10,
   "metadata": {},
   "outputs": [
    {
     "data": {
      "text/plain": [
       "1994"
      ]
     },
     "execution_count": 10,
     "metadata": {},
     "output_type": "execute_result"
    }
   ],
   "source": [
    "romanToInt('MCMXCIV')"
   ]
  },
  {
   "cell_type": "markdown",
   "metadata": {},
   "source": [
    "# 5. Longest Common Prefix\n",
    "Write a function to find the longest common prefix string amongst an array of strings.\\\n",
    "\\\n",
    "If there is no common prefix, return an empty string \"\"."
   ]
  },
  {
   "cell_type": "code",
   "execution_count": 11,
   "metadata": {},
   "outputs": [],
   "source": [
    "def longestCommonPrefix(strs) -> str:\n",
    "    wordlen=[]\n",
    "    for word in strs:\n",
    "        wordlen+=[len(word)]\n",
    "    shortest=min(wordlen)\n",
    "    prefix=strs[0][0]\n",
    "    prefix_index=[]\n",
    "    common_prefix=\"\"\n",
    "    for i in range(shortest):\n",
    "        res=0\n",
    "        for word in strs:\n",
    "            if word[i]==prefix:\n",
    "                res+=1\n",
    "            else:\n",
    "                res=res\n",
    "        if res==3:\n",
    "            prefix=word[i+1]\n",
    "            prefix_index+=[i]\n",
    "    if prefix_index==0:\n",
    "        common_prefix=\"\"\n",
    "    else:\n",
    "        for i in prefix_index:\n",
    "            common_prefix+=strs[0][i]\n",
    "    return common_prefix"
   ]
  },
  {
   "cell_type": "code",
   "execution_count": 12,
   "metadata": {},
   "outputs": [
    {
     "name": "stdout",
     "output_type": "stream",
     "text": [
      "[0, 1]\n",
      "fl\n"
     ]
    }
   ],
   "source": [
    "x=[\"flower\",\"flow\",\"flight\"]\n",
    "wordlen=[]\n",
    "for word in x:\n",
    "    wordlen+=[len(word)]\n",
    "shortest=min(wordlen)\n",
    "prefix=x[0][0]\n",
    "prefix_index=[]\n",
    "common_prefix=\"\"\n",
    "for i in range(shortest):\n",
    "    res=0\n",
    "    for word in x:\n",
    "        if word[i]==prefix:\n",
    "            res+=1\n",
    "        else:\n",
    "            res=res\n",
    "    if res==3:\n",
    "        prefix=word[i+1]\n",
    "        prefix_index+=[i]\n",
    "print(prefix_index)\n",
    "if prefix_index==0:\n",
    "    common_prefix=\"\"\n",
    "else:\n",
    "    for i in prefix_index:\n",
    "        common_prefix+=x[0][i]\n",
    "print(common_prefix)"
   ]
  },
  {
   "cell_type": "code",
   "execution_count": 13,
   "metadata": {},
   "outputs": [],
   "source": [
    "x=[\"flower\",\"flow\",\"flight\"]\n"
   ]
  },
  {
   "cell_type": "markdown",
   "metadata": {},
   "source": [
    "Testcase:"
   ]
  },
  {
   "cell_type": "code",
   "execution_count": 14,
   "metadata": {},
   "outputs": [
    {
     "data": {
      "text/plain": [
       "'fl'"
      ]
     },
     "execution_count": 14,
     "metadata": {},
     "output_type": "execute_result"
    }
   ],
   "source": [
    "strs=[\"flower\",\"flow\",\"flight\"]\n",
    "longestCommonPrefix(strs)"
   ]
  },
  {
   "cell_type": "code",
   "execution_count": 15,
   "metadata": {},
   "outputs": [
    {
     "data": {
      "text/plain": [
       "''"
      ]
     },
     "execution_count": 15,
     "metadata": {},
     "output_type": "execute_result"
    }
   ],
   "source": [
    "strs=[\"dog\",\"racecar\",\"car\"]\n",
    "longestCommonPrefix(strs)"
   ]
  },
  {
   "cell_type": "code",
   "execution_count": 16,
   "metadata": {},
   "outputs": [],
   "source": [
    "def longestCommonPrefix2(strs) -> str:\n",
    "    if not strs:\n",
    "            return \"\"\n",
    "    shortest = min(strs,key=len)\n",
    "    for i, ch in enumerate(shortest):\n",
    "        for other in strs:\n",
    "            if other[i] != ch:\n",
    "                return shortest[:i]\n",
    "    return shortest"
   ]
  },
  {
   "cell_type": "code",
   "execution_count": 17,
   "metadata": {},
   "outputs": [
    {
     "data": {
      "text/plain": [
       "'fl'"
      ]
     },
     "execution_count": 17,
     "metadata": {},
     "output_type": "execute_result"
    }
   ],
   "source": [
    "strs=[\"flower\",\"flow\",\"flight\"]\n",
    "longestCommonPrefix2(strs)"
   ]
  },
  {
   "cell_type": "markdown",
   "metadata": {},
   "source": [
    "\"if not strs\": will execute if strs is any kind of zero or empty container, or False.\\\n",
    "\\\n",
    "Returns: They can be situated anywhere in the function body. A return statement ends the execution of the function call and \"returns\" the result, i.e. the value of the expression following the return keyword, to the caller. If the return statement is without an expression, the special value None is returned."
   ]
  },
  {
   "cell_type": "markdown",
   "metadata": {},
   "source": [
    "# 6. Valid Parentheses\n",
    "Given a string containing just the characters '(', ')', '{', '}', '[' and ']', determine if the input string is valid.\\\n",
    "\\\n",
    "An input string is valid if:\\\n",
    "\\\n",
    "Open brackets must be closed by the same type of brackets.\\\n",
    "Open brackets must be closed in the correct order.\\\n",
    "Note that an empty string is also considered valid."
   ]
  },
  {
   "cell_type": "code",
   "execution_count": 18,
   "metadata": {},
   "outputs": [],
   "source": [
    "def isValid(s: str) -> bool:\n",
    "    bracketsDict={\"(\":\")\",\n",
    "             \"[\":\"]\",\n",
    "             \"{\":\"}\"}\n",
    "    for index,bracket in enumerate(brackets):\n",
    "        if bracket in bracketsDict.keys():\n",
    "            try:\n",
    "                counterbracket_index=brackets.index(bracketsDict[bracket])\n",
    "            except (ValueError):\n",
    "                return False\n",
    "            if counterbracket_index!=index+1 or counterbracket_index!=len(brackets)-index-1:\n",
    "                return False\n",
    "        else:\n",
    "            return False\n",
    "    return brackets"
   ]
  },
  {
   "cell_type": "code",
   "execution_count": 19,
   "metadata": {},
   "outputs": [
    {
     "data": {
      "text/plain": [
       "False"
      ]
     },
     "execution_count": 19,
     "metadata": {},
     "output_type": "execute_result"
    }
   ],
   "source": [
    "brackets=\"([)\"\n",
    "isValid(brackets)"
   ]
  },
  {
   "cell_type": "code",
   "execution_count": 20,
   "metadata": {},
   "outputs": [],
   "source": [
    "def isValid2(s: str) -> bool:\n",
    "    stack = []\n",
    "    dict = {\"]\":\"[\", \"}\":\"{\", \")\":\"(\"}\n",
    "    for char in s:\n",
    "        if char in dict.values():\n",
    "            stack.append(char)\n",
    "        elif char in dict.keys():\n",
    "            if stack == [] or dict[char] != stack.pop():\n",
    "                return False\n",
    "            else:\n",
    "                return False\n",
    "        return stack == []\n"
   ]
  },
  {
   "cell_type": "code",
   "execution_count": 21,
   "metadata": {},
   "outputs": [
    {
     "data": {
      "text/plain": [
       "False"
      ]
     },
     "execution_count": 21,
     "metadata": {},
     "output_type": "execute_result"
    }
   ],
   "source": [
    "brackets=\"([)\"\n",
    "isValid2(brackets)"
   ]
  },
  {
   "cell_type": "markdown",
   "metadata": {},
   "source": [
    "pop(): The pop() method removes the element at the specified position."
   ]
  },
  {
   "cell_type": "markdown",
   "metadata": {},
   "source": [
    "# 7. Merge two sorted list\n",
    "Merge two sorted linked lists and return it as a new list. The new list should be made by splicing together the nodes of the first two lists.\n",
    "\n"
   ]
  },
  {
   "cell_type": "code",
   "execution_count": 22,
   "metadata": {},
   "outputs": [],
   "source": [
    "# Definition for singly-linked list.\n",
    "class ListNode:\n",
    "    def __init__(self, x):\n",
    "        self.val = x\n",
    "        self.next = None\n",
    "\n",
    "\n",
    "def mergeTwoLists(self,l1: ListNode, l2: ListNode) -> ListNode:\n",
    "    if l1 is None:\n",
    "        return l2\n",
    "    elif l2 is None:\n",
    "        return l1\n",
    "    elif l1.val < l2.val:\n",
    "        l1.next = self.mergeTwoLists(l1.next, l2)\n",
    "        return l1\n",
    "    else:\n",
    "        l2.next = self.mergeTwoLists(l1, l2.next)\n",
    "        return l2"
   ]
  },
  {
   "cell_type": "code",
   "execution_count": 23,
   "metadata": {},
   "outputs": [],
   "source": [
    "l1=[1,2,4]\n",
    "l2=[1,3,4]"
   ]
  },
  {
   "cell_type": "markdown",
   "metadata": {},
   "source": [
    "# 8. Remove duplicates from sorted array\n",
    "Given a sorted array nums, remove the duplicates in-place such that each element appear only once and return the new length.\\\n",
    "\\\n",
    "Do not allocate extra space for another array, you must do this by modifying the input array in-place with O(1) extra memory."
   ]
  },
  {
   "cell_type": "code",
   "execution_count": 24,
   "metadata": {},
   "outputs": [],
   "source": [
    "def removeDuplicates(nums):\n",
    "    stack=[]\n",
    "    for i in range(len(nums)):\n",
    "        num=nums.pop(0)\n",
    "        if num not in stack:\n",
    "            stack+=[num] \n",
    "    return len(stack)"
   ]
  },
  {
   "cell_type": "code",
   "execution_count": 25,
   "metadata": {},
   "outputs": [
    {
     "data": {
      "text/plain": [
       "2"
      ]
     },
     "execution_count": 25,
     "metadata": {},
     "output_type": "execute_result"
    }
   ],
   "source": [
    "nums=[1,1,2]\n",
    "removeDuplicates(nums)"
   ]
  },
  {
   "cell_type": "code",
   "execution_count": 26,
   "metadata": {},
   "outputs": [],
   "source": [
    "#This is the solution from leetcode forum, thanks jkbielan for sharing.\n",
    "\n",
    "def removeDuplicates_solution(nums) -> int:\n",
    "\tcurr_idx = 0\n",
    "\n",
    "\twhile curr_idx < len(nums) - 1:     # iterating through nums list till next-to-last element (curr_idx + 1 always checked)\n",
    "\t\tif nums[curr_idx] == nums[curr_idx+1]:  # if current and next element are the same\n",
    "\t\t\tdel nums[curr_idx]          # current element is deleted\n",
    "\t\t\tcurr_idx -= 1               # to stay at the same place in list, we have to dicrease 1 (1 will be added in the next step)\n",
    "\t\tcurr_idx += 1                   # going further in the list\n",
    "\treturn len(nums)"
   ]
  },
  {
   "cell_type": "code",
   "execution_count": 27,
   "metadata": {},
   "outputs": [
    {
     "data": {
      "text/plain": [
       "2"
      ]
     },
     "execution_count": 27,
     "metadata": {},
     "output_type": "execute_result"
    }
   ],
   "source": [
    "nums=[1,1,2]\n",
    "removeDuplicates_solution(nums)"
   ]
  },
  {
   "cell_type": "markdown",
   "metadata": {},
   "source": [
    "# 9. Remove Elements\n",
    "Given an array nums and a value val, remove all instances of that value in-place and return the new length.\\\n",
    "\\\n",
    "Do not allocate extra space for another array, you must do this by modifying the input array in-place with O(1) extra memory.\\\n",
    "\\\n",
    "The order of elements can be changed. It doesn't matter what you leave beyond the new length."
   ]
  },
  {
   "cell_type": "code",
   "execution_count": 28,
   "metadata": {},
   "outputs": [],
   "source": [
    "def removeElement(nums, val: int) -> int:\n",
    "    i=0\n",
    "    while i < len(nums):\n",
    "        if nums[i]==val:\n",
    "            del nums[i]\n",
    "            i-=1\n",
    "        i+=1\n",
    "    return nums"
   ]
  },
  {
   "cell_type": "code",
   "execution_count": 29,
   "metadata": {},
   "outputs": [
    {
     "data": {
      "text/plain": [
       "[2, 2]"
      ]
     },
     "execution_count": 29,
     "metadata": {},
     "output_type": "execute_result"
    }
   ],
   "source": [
    "nums=[3,2,2,3]\n",
    "val=3\n",
    "removeElement(nums,val)"
   ]
  },
  {
   "cell_type": "markdown",
   "metadata": {},
   "source": [
    "# 10. Implement strStr()\n",
    "Implement strStr().\\\n",
    "\\\n",
    "Return the index of the first occurrence of needle in haystack, or -1 if needle is not part of haystack.\n",
    "\n"
   ]
  },
  {
   "cell_type": "code",
   "execution_count": 30,
   "metadata": {},
   "outputs": [],
   "source": [
    "def strStr(haystack: str, needle: str) -> int:\n",
    "    if needle not in haystack:\n",
    "        return -1\n",
    "    else:\n",
    "        return(haystack.index(needle))\n",
    "        \n",
    "    "
   ]
  },
  {
   "cell_type": "code",
   "execution_count": 31,
   "metadata": {},
   "outputs": [
    {
     "data": {
      "text/plain": [
       "2"
      ]
     },
     "execution_count": 31,
     "metadata": {},
     "output_type": "execute_result"
    }
   ],
   "source": [
    "haystack = \"hello\"\n",
    "needle = \"ll\"\n",
    "strStr(haystack,needle)"
   ]
  }
 ],
 "metadata": {
  "kernelspec": {
   "display_name": "Python 3",
   "language": "python",
   "name": "python3"
  },
  "language_info": {
   "codemirror_mode": {
    "name": "ipython",
    "version": 3
   },
   "file_extension": ".py",
   "mimetype": "text/x-python",
   "name": "python",
   "nbconvert_exporter": "python",
   "pygments_lexer": "ipython3",
   "version": "3.7.3"
  }
 },
 "nbformat": 4,
 "nbformat_minor": 2
}
