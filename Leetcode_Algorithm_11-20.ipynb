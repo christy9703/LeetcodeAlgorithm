{
 "cells": [
  {
   "cell_type": "markdown",
   "metadata": {},
   "source": [
    "# 11. Search Insert Position\n",
    "Given a sorted array and a target value, return the index if the target is found. If not, return the index where it would be if it were inserted in order.\\\n",
    "\\\n",
    "You may assume no duplicates in the array."
   ]
  },
  {
   "cell_type": "code",
   "execution_count": 1,
   "metadata": {},
   "outputs": [],
   "source": [
    "def searchInsert(nums, target: int) -> int:\n",
    "    i=0\n",
    "    index=0\n",
    "    if target in nums:\n",
    "        return nums.index(target)\n",
    "    else:\n",
    "        while i <len(nums):\n",
    "            if target > nums[i]:\n",
    "                index=i+1\n",
    "            i+=1\n",
    "    return index\n",
    "            "
   ]
  },
  {
   "cell_type": "code",
   "execution_count": 2,
   "metadata": {},
   "outputs": [
    {
     "data": {
      "text/plain": [
       "4"
      ]
     },
     "execution_count": 2,
     "metadata": {},
     "output_type": "execute_result"
    }
   ],
   "source": [
    "nums=[1,3,5,6]\n",
    "target=7\n",
    "searchInsert(nums,target)"
   ]
  },
  {
   "cell_type": "markdown",
   "metadata": {},
   "source": [
    "# 12. Count and Say\n",
    "The count-and-say sequence is the sequence of integers with the first five terms as following:\n",
    "1.     1 \n",
    "2.     11\n",
    "3.     21\n",
    "4.     1211\n",
    "5.     111221\\\n",
    "1 is read off as \"one 1\" or 11.\\\n",
    "11 is read off as \"two 1s\" or 21.\\\n",
    "21 is read off as \"one 2, then one 1\" or 1211.\\\n",
    "\\\n",
    "Given an integer n where 1 ≤ n ≤ 30, generate the nth term of the count-and-say sequence.\\\n",
    "\\\n",
    "Note: Each term of the sequence of integers will be represented as a string."
   ]
  },
  {
   "cell_type": "markdown",
   "metadata": {},
   "source": [
    "# 13. Maximum Subquery\n",
    "Given an integer array nums, find the contiguous subarray (containing at least one number) which has the largest sum and return its sum."
   ]
  },
  {
   "cell_type": "code",
   "execution_count": 3,
   "metadata": {},
   "outputs": [],
   "source": [
    "def maxSubArray(nums) -> int:\n",
    "    i=0\n",
    "    indexstack=[]\n",
    "    maxnumber=nums[0]\n",
    "    while i <len(nums):\n",
    "        total=nums[i]\n",
    "        j=i+1\n",
    "        while j<len(nums):\n",
    "            total=total+nums[j]\n",
    "            if total>maxnumber:\n",
    "                #indexstack=[]\n",
    "                #indexstack+=[i,j]\n",
    "                maxnumber=total\n",
    "            j+=1     \n",
    "        i+=1\n",
    "    return maxnumber\n",
    "    "
   ]
  },
  {
   "cell_type": "code",
   "execution_count": 4,
   "metadata": {},
   "outputs": [
    {
     "data": {
      "text/plain": [
       "6"
      ]
     },
     "execution_count": 4,
     "metadata": {},
     "output_type": "execute_result"
    }
   ],
   "source": [
    "nums=[-2,1,-3,4,-1,2,1,-5,4]\n",
    "maxSubArray(nums)"
   ]
  },
  {
   "cell_type": "code",
   "execution_count": 5,
   "metadata": {},
   "outputs": [],
   "source": [
    "def maxSubArray2(A):\n",
    "        if not A:\n",
    "            return 0\n",
    "\n",
    "        curSum = maxSum = A[0]\n",
    "        for num in A[1:]:\n",
    "            curSum = max(num, curSum + num)\n",
    "            maxSum = max(maxSum, curSum)\n",
    "\n",
    "        return maxSum"
   ]
  },
  {
   "cell_type": "code",
   "execution_count": 6,
   "metadata": {},
   "outputs": [
    {
     "data": {
      "text/plain": [
       "6"
      ]
     },
     "execution_count": 6,
     "metadata": {},
     "output_type": "execute_result"
    }
   ],
   "source": [
    "nums=[-2,1,-3,4,-1,2,1,-5,4]\n",
    "maxSubArray2(nums)"
   ]
  },
  {
   "cell_type": "markdown",
   "metadata": {},
   "source": [
    "# 14. Length of the last word\n",
    "Given a string s consists of upper/lower-case alphabets and empty space characters ' ', return the length of last word in the string.\\\n",
    "\\\n",
    "If the last word does not exist, return 0.\\\n",
    "\\\n",
    "Note: A word is defined as a character sequence consists of non-space characters only.\n",
    "\n"
   ]
  },
  {
   "cell_type": "code",
   "execution_count": 7,
   "metadata": {},
   "outputs": [],
   "source": [
    "def lengthOfLastWord(s: str) -> int:\n",
    "    if not s:\n",
    "        return 0\n",
    "    s_split=s.split(\" \")\n",
    "    s_split = list(filter(None, s_split))\n",
    "    if not s_split:\n",
    "        return 0\n",
    "    return len(s_split[-1:][0])"
   ]
  },
  {
   "cell_type": "code",
   "execution_count": 8,
   "metadata": {},
   "outputs": [
    {
     "data": {
      "text/plain": [
       "0"
      ]
     },
     "execution_count": 8,
     "metadata": {},
     "output_type": "execute_result"
    }
   ],
   "source": [
    "string=\"      \"\n",
    "#len(string.split(\" \")[-1:][0])\n",
    "lengthOfLastWord(string)"
   ]
  },
  {
   "cell_type": "markdown",
   "metadata": {},
   "source": [
    "filter function\\\n",
    "str_list = filter(None, str_list) # fastest\\\n",
    "str_list = filter(bool, str_list) # fastest\\\n",
    "str_list = filter(len, str_list)  # a bit slower\\\n",
    "str_list = filter(lambda item: item, str_list) # slower than list comprehension"
   ]
  },
  {
   "cell_type": "markdown",
   "metadata": {},
   "source": [
    "# 15. Plus one\n",
    "Given a non-empty array of digits representing a non-negative integer, plus one to the integer.\\\n",
    "\\\n",
    "The digits are stored such that the most significant digit is at the head of the list, and each element in the array contain a single digit.\\\n",
    "\\\n",
    "You may assume the integer does not contain any leading zero, except the number 0 itself."
   ]
  },
  {
   "cell_type": "code",
   "execution_count": 9,
   "metadata": {},
   "outputs": [],
   "source": [
    "def plusOne(digits):\n",
    "    digits.append(digits.pop()+1)\n",
    "    while 10 in digits:\n",
    "        for i in digits:\n",
    "            if i ==10:\n",
    "                index=digits.index(i)\n",
    "                if index==0:\n",
    "                    digits[index]=0\n",
    "                    digits.insert(0,1)\n",
    "                else:\n",
    "                    digits[index-1]+=1\n",
    "                    digits[index]=0\n",
    "    return digits"
   ]
  },
  {
   "cell_type": "code",
   "execution_count": 10,
   "metadata": {},
   "outputs": [
    {
     "data": {
      "text/plain": [
       "[9, 9, 0]"
      ]
     },
     "execution_count": 10,
     "metadata": {},
     "output_type": "execute_result"
    }
   ],
   "source": [
    "digits=[9,8,9]\n",
    "plusOne(digits)"
   ]
  },
  {
   "cell_type": "markdown",
   "metadata": {},
   "source": [
    "# 16. Add binary\n",
    "Given two binary strings, return their sum (also a binary string).\\\n",
    "\\\n",
    "The input strings are both non-empty and contains only characters 1 or 0."
   ]
  },
  {
   "cell_type": "code",
   "execution_count": 11,
   "metadata": {},
   "outputs": [],
   "source": [
    "def addBinary(a: str, b: str) -> str:\n",
    "    return bin(int(a,2)+int(b,2)).replace('0b',\"\")\n",
    "    "
   ]
  },
  {
   "cell_type": "code",
   "execution_count": 12,
   "metadata": {},
   "outputs": [
    {
     "data": {
      "text/plain": [
       "'10010'"
      ]
     },
     "execution_count": 12,
     "metadata": {},
     "output_type": "execute_result"
    }
   ],
   "source": [
    "a = \"11\"\n",
    "b = \"1111\"\n",
    "addBinary(a,b)"
   ]
  },
  {
   "cell_type": "code",
   "execution_count": 13,
   "metadata": {},
   "outputs": [],
   "source": [
    "#this code is from leetcode, thanks lariven for sharing\n",
    "def addBinary2(self,a, b):\n",
    "    if len(a)==0: return b\n",
    "    if len(b)==0: return a\n",
    "    if a[-1] == '1' and b[-1] == '1':\n",
    "        return self.addBinary(self.addBinary(a[0:-1],b[0:-1]),'1')+'0'\n",
    "    if a[-1] == '0' and b[-1] == '0':\n",
    "        return self.addBinary(a[0:-1],b[0:-1])+'0'\n",
    "    else:\n",
    "        return self.addBinary(a[0:-1],b[0:-1])+'1'"
   ]
  },
  {
   "cell_type": "markdown",
   "metadata": {},
   "source": [
    "# 17. Sqrt(x)\n",
    "Implement int sqrt(int x).\\\n",
    "\\\n",
    "Compute and return the square root of x, where x is guaranteed to be a non-negative integer.\\\n",
    "\\\n",
    "Since the return type is an integer, the decimal digits are truncated and only the integer part of the result is returned."
   ]
  },
  {
   "cell_type": "code",
   "execution_count": 14,
   "metadata": {},
   "outputs": [],
   "source": [
    "def mySqrt(x: int) -> int:\n",
    "    import numpy as np\n",
    "    return int(np.sqrt(x))"
   ]
  },
  {
   "cell_type": "code",
   "execution_count": 15,
   "metadata": {},
   "outputs": [
    {
     "data": {
      "text/plain": [
       "2"
      ]
     },
     "execution_count": 15,
     "metadata": {},
     "output_type": "execute_result"
    }
   ],
   "source": [
    "x=8\n",
    "mySqrt(x)"
   ]
  },
  {
   "cell_type": "markdown",
   "metadata": {},
   "source": [
    "# 18. Climbing Stairs\n",
    "You are climbing a stair case. It takes n steps to reach to the top.\\\n",
    "\\\n",
    "Each time you can either climb 1 or 2 steps. In how many distinct ways can you climb to the top?\\\n",
    "\\\n",
    "Note: Given n will be a positive integer.\n",
    "\n"
   ]
  },
  {
   "cell_type": "code",
   "execution_count": 16,
   "metadata": {},
   "outputs": [],
   "source": [
    "def climbStairs(n: int) -> int:\n",
    "    import math\n",
    "    max_a=int(n/2)\n",
    "    i=0\n",
    "    time=0\n",
    "    total_time=0\n",
    "    while i <=max_a:\n",
    "        b=n-2*i\n",
    "        m=i+b\n",
    "        time=math.factorial(m)/(math.factorial(i)*math.factorial(b))\n",
    "        total_time+=time\n",
    "        i+=1\n",
    "    return total_time"
   ]
  },
  {
   "cell_type": "code",
   "execution_count": 17,
   "metadata": {},
   "outputs": [
    {
     "data": {
      "text/plain": [
       "3.0"
      ]
     },
     "execution_count": 17,
     "metadata": {},
     "output_type": "execute_result"
    }
   ],
   "source": [
    "n=3\n",
    "climbStairs(3)"
   ]
  },
  {
   "cell_type": "code",
   "execution_count": 18,
   "metadata": {},
   "outputs": [],
   "source": [
    "def climbStairs2(n):\n",
    "    a, b = 1, 1\n",
    "    for i in range(n):\n",
    "        a, b = b, a + b\n",
    "    return a\n"
   ]
  },
  {
   "cell_type": "code",
   "execution_count": 19,
   "metadata": {},
   "outputs": [
    {
     "data": {
      "text/plain": [
       "3"
      ]
     },
     "execution_count": 19,
     "metadata": {},
     "output_type": "execute_result"
    }
   ],
   "source": [
    "n=3\n",
    "climbStairs2(3)"
   ]
  },
  {
   "cell_type": "markdown",
   "metadata": {},
   "source": [
    "# 19. Remove duplicates from sorted list\n",
    "Given a sorted linked list, delete all duplicates such that each element appear only once."
   ]
  },
  {
   "cell_type": "code",
   "execution_count": 20,
   "metadata": {},
   "outputs": [],
   "source": [
    "# Definition for singly-linked list.\n",
    "class ListNode:\n",
    "    def __init__(self, x):\n",
    "        self.val = x\n",
    "        self.next = None\n",
    "        \n",
    "#def deleteDuplicates(self, head: ListNode) -> ListNode:\n",
    "    \n",
    "    "
   ]
  },
  {
   "cell_type": "code",
   "execution_count": 21,
   "metadata": {},
   "outputs": [],
   "source": [
    "head=[1,1,2]"
   ]
  },
  {
   "cell_type": "markdown",
   "metadata": {},
   "source": [
    "# 20. Merge sorted array\n",
    "Given two sorted integer arrays nums1 and nums2, merge nums2 into nums1 as one sorted array.\\\n",
    "Note:\\\n",
    "\\\n",
    "The number of elements initialized in nums1 and nums2 are m and n respectively.\\\n",
    "You may assume that nums1 has enough space (size that is greater or equal to m + n) to hold additional elements from nums2.\n"
   ]
  },
  {
   "cell_type": "code",
   "execution_count": 22,
   "metadata": {},
   "outputs": [],
   "source": [
    "def merge(nums1, m: int, nums2, n: int) -> None:\n",
    "        \"\"\"\n",
    "        Do not return anything, modify nums1 in-place instead.\n",
    "        \"\"\"\n",
    "        for i in nums2:\n",
    "            nums1[m]=i\n",
    "            m+=1\n",
    "        nums1=sorted(nums1)\n",
    "        return nums1"
   ]
  },
  {
   "cell_type": "code",
   "execution_count": 23,
   "metadata": {},
   "outputs": [],
   "source": [
    "nums1 = [1,2,3,0,0,0]\n",
    "m = 3\n",
    "nums2 = [2,5,6]\n",
    "n = 3"
   ]
  },
  {
   "cell_type": "code",
   "execution_count": 24,
   "metadata": {},
   "outputs": [
    {
     "data": {
      "text/plain": [
       "[1, 2, 2, 3, 5, 6]"
      ]
     },
     "execution_count": 24,
     "metadata": {},
     "output_type": "execute_result"
    }
   ],
   "source": [
    "merge(nums1,m,nums2,n)"
   ]
  }
 ],
 "metadata": {
  "kernelspec": {
   "display_name": "Python 3",
   "language": "python",
   "name": "python3"
  },
  "language_info": {
   "codemirror_mode": {
    "name": "ipython",
    "version": 3
   },
   "file_extension": ".py",
   "mimetype": "text/x-python",
   "name": "python",
   "nbconvert_exporter": "python",
   "pygments_lexer": "ipython3",
   "version": "3.7.3"
  }
 },
 "nbformat": 4,
 "nbformat_minor": 2
}
